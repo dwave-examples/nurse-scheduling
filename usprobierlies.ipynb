{
 "cells": [
  {
   "cell_type": "code",
   "execution_count": 8,
   "metadata": {},
   "outputs": [],
   "source": [
    "#model varibales:\n",
    "n_scrutinizerJunior = 1\n",
    "n_scrutinizerIntermidiate = 1\n",
    "n_scrutinizerSenior = 1\n",
    "n_Scruntinizers = n_scrutinizerJunior+n_scrutinizerIntermidiate+n_scrutinizerSenior\n",
    "\n",
    "n_billEasy = 1\n",
    "n_billMedium = 1\n",
    "n_billHard = 1\n",
    "nBills = n_billEasy+n_billMedium+n_billHard\n",
    "\n",
    "size = (n_Scruntinizers*nBills)^2"
   ]
  },
  {
   "cell_type": "code",
   "execution_count": 10,
   "metadata": {},
   "outputs": [],
   "source": [
    "#Parameters for constraints\n",
    "time_constraintFactor = 2 \n",
    "skill_constraintFractor = 2\n",
    "amount_constraintFactor = 2"
   ]
  }
 ],
 "metadata": {
  "kernelspec": {
   "display_name": "Python 3",
   "language": "python",
   "name": "python3"
  },
  "language_info": {
   "codemirror_mode": {
    "name": "ipython",
    "version": 3
   },
   "file_extension": ".py",
   "mimetype": "text/x-python",
   "name": "python",
   "nbconvert_exporter": "python",
   "pygments_lexer": "ipython3",
   "version": "3.12.0"
  }
 },
 "nbformat": 4,
 "nbformat_minor": 2
}
